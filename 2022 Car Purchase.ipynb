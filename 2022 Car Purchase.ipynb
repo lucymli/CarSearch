{
 "cells": [
  {
   "cell_type": "code",
   "execution_count": null,
   "id": "59229ece",
   "metadata": {},
   "outputs": [],
   "source": [
    "from bs4 import BeautifulSoup\n",
    "import requests\n",
    "import json\n",
    "import re\n",
    "\n",
    "import pandas as pd\n",
    "\n",
    "import os\n",
    "\n",
    "import re"
   ]
  },
  {
   "cell_type": "markdown",
   "id": "7048c9c1",
   "metadata": {},
   "source": [
    "# Get safety data from IIHS.org"
   ]
  },
  {
   "cell_type": "code",
   "execution_count": null,
   "id": "f838084b",
   "metadata": {},
   "outputs": [],
   "source": [
    "def get_vehicle_info (soup):\n",
    "    data_rows = []\n",
    "    for row in soup.find_all('td', class_=\"Vehicle\"):\n",
    "        for td in row:\n",
    "            iihs_url = url_base + td.get('href')\n",
    "            names = [x.text for x in td.children]\n",
    "            output = {}\n",
    "            if ('Safety' in names[0]):\n",
    "                make_model = names[1]\n",
    "                style_years = ' '.join(names[2:])\n",
    "                iihs_ranking = names[0]\n",
    "            else:\n",
    "                make_model = names[0]\n",
    "                style_years = ' '.join(names[1:])\n",
    "                iihs_ranking = ''\n",
    "            (style, year) = style_years.split('|')\n",
    "            style = style.strip()\n",
    "            year_str = year.replace('models', '').strip()\n",
    "            if len(year_str) == 4:\n",
    "                year = int(year_str)\n",
    "                other_notes = \"\"\n",
    "            else:\n",
    "                year = int(year_str[:4])\n",
    "                other_notes = year_str[4:]\n",
    "            make = make_model.split(' ')[0]\n",
    "            model = ' '.join(make_model.split(' ')[1:])\n",
    "            if (make==\"Alfa\"):\n",
    "                make = \"Alfa Romeo\"\n",
    "                model = model.replace(\"Romeo \", \"\")\n",
    "            data_rows = data_rows + [{'make': make, 'model': model, 'style': style, 'year': year,\n",
    "                                      \"iihs_ranking\": iihs_ranking, 'iihs_url': iihs_url,\n",
    "                                      'other_notes': other_notes}]\n",
    "\n",
    "    df = pd.DataFrame(data_rows)\n",
    "    return (df)"
   ]
  },
  {
   "cell_type": "code",
   "execution_count": null,
   "id": "7e5fcdf6",
   "metadata": {},
   "outputs": [],
   "source": [
    "def extract_table (url):\n",
    "    page = requests.get(url)\n",
    "    df_raw = pd.read_html(page.text)[0]\n",
    "    soup = BeautifulSoup(page.text, 'html.parser')\n",
    "    df_id = get_vehicle_info(soup).assign(iihs_type=os.path.basename(url))\n",
    "    df = pd.concat([df_id, df_raw.drop(columns=\"Vehicle Name\")], axis=1)\n",
    "    return (df)"
   ]
  },
  {
   "cell_type": "code",
   "execution_count": null,
   "id": "826c2e0c",
   "metadata": {},
   "outputs": [],
   "source": [
    "car_types = [\"small-cars\", \"midsize-cars\", \"midsize-luxury-cars\", \"large-cars\", \"large-luxury-cars\", \n",
    "             \"small-suvs\", \"midsize-suvs\", \"midsize-luxury-suvs\", \"large-suvs\", \"minivans\"]\n",
    "url_base = \"https://www.iihs.org\"\n",
    "urls = [url_base + \"/ratings/class-summary/\" + x for x in car_types]"
   ]
  },
  {
   "cell_type": "code",
   "execution_count": null,
   "id": "0e06bf4f",
   "metadata": {},
   "outputs": [],
   "source": [
    "print(urls[0])"
   ]
  },
  {
   "cell_type": "code",
   "execution_count": null,
   "id": "0241820b",
   "metadata": {},
   "outputs": [],
   "source": [
    "car_table = pd.concat([extract_table(x) for x in urls]).reset_index(drop=True)"
   ]
  },
  {
   "cell_type": "markdown",
   "id": "157697c1",
   "metadata": {},
   "source": [
    "# Get fuel economy data from fueleconomy.gov"
   ]
  },
  {
   "cell_type": "code",
   "execution_count": null,
   "id": "00c7787d",
   "metadata": {},
   "outputs": [],
   "source": [
    "epadata_vehicles = pd.read_csv(\"https://www.fueleconomy.gov/feg/epadata/vehicles.csv.zip\")"
   ]
  },
  {
   "cell_type": "code",
   "execution_count": null,
   "id": "46a323a8",
   "metadata": {},
   "outputs": [],
   "source": [
    "epadata_vehicles"
   ]
  },
  {
   "cell_type": "code",
   "execution_count": null,
   "id": "5bb28479",
   "metadata": {},
   "outputs": [],
   "source": [
    "def find_fuelecon_ids (make, model, year, db_full, recursive=True):\n",
    "    if (make==\"Volvo\"):\n",
    "        model = model.replace(\"Cross Country\", \"CC\")\n",
    "    db = db_full[db_full[\"year\"]==year]\n",
    "    criterion1 = db[\"make\"].str.match(make, case=False)\n",
    "    criterion2 = db[\"model\"].str.match(model, case=False)\n",
    "    id_list = db[criterion1 & criterion2][\"id\"].to_list()\n",
    "    if (len(id_list)==0):\n",
    "        if ((make==\"BMW\") & ('series' in model)):\n",
    "            criterion2 = db[\"model\"].str.startswith(model.split(' ')[0])\n",
    "            model = model.replace(' '.join(model.split(' ')[0:2]), '')\n",
    "            if (' ' in model):\n",
    "                for x in model.split(' '):\n",
    "                    criterion2 = criterion2 & db[\"model\"].str.contains(x, case=False)\n",
    "        elif (make==\"Mercedes-Benz\"):\n",
    "            model = model.replace('-Class', '')\n",
    "            criterion2 = db[\"model\"].str.replace('\\d+', '').str.split().str.get(0).str.match(model)\n",
    "        elif (make==\"Volvo\"):\n",
    "            if (' ' in model):\n",
    "                criterion2 = True\n",
    "                for x in model.split(' '):\n",
    "                    criterion2 = criterion2 & db[\"model\"].str.contains(x, case=False)\n",
    "        elif (make==\"Mini\"):\n",
    "            criterion2 = db[\"model\"].str.contains(model, case=False)\n",
    "        elif (\"ybrid\" in model):\n",
    "            model_prefix = re.sub(\"Hybrid\", \"\", model, flags=re.IGNORECASE)\n",
    "            criterion2 = db[\"model\"].str.contains(\"Hybrid\", case=False) & db[\"model\"].str.startswith(model_prefix)\n",
    "        id_list = db[criterion1 & criterion2][\"id\"].to_list()\n",
    "        if ((len(id_list)==0) and recursive):\n",
    "            id_list = find_fuelecon_ids(make, model, year-1, db_full, recursive=False)\n",
    "    return (id_list)"
   ]
  },
  {
   "cell_type": "code",
   "execution_count": null,
   "id": "33b97145",
   "metadata": {},
   "outputs": [],
   "source": [
    "fueleconomy_ids = car_table[[\"make\", \"model\", \"year\"]].\\\n",
    "apply(lambda x: find_fuelecon_ids(make=x[0], model=x[1], year=x[2], db_full=epadata_vehicles), axis=1)"
   ]
  },
  {
   "cell_type": "code",
   "execution_count": null,
   "id": "5b7b72d1",
   "metadata": {},
   "outputs": [],
   "source": [
    "car_table_fuel = car_table.assign(fuelecon_ids=fueleconomy_ids)"
   ]
  },
  {
   "cell_type": "code",
   "execution_count": null,
   "id": "41645d52",
   "metadata": {},
   "outputs": [],
   "source": [
    "car_table_fuel"
   ]
  },
  {
   "cell_type": "markdown",
   "id": "f2aaeb4e",
   "metadata": {},
   "source": [
    "# Merge, group by and aggregate"
   ]
  },
  {
   "cell_type": "code",
   "execution_count": null,
   "id": "a7af50cc-1707-4a96-a6cf-af59239ff657",
   "metadata": {},
   "outputs": [],
   "source": [
    "merged_car_data = pd.merge(car_table_fuel.explode(\"fuelecon_ids\"), epadata_vehicles, \\\n",
    "                           how=\"left\", left_on=\"fuelecon_ids\", right_on=\"id\", suffixes=('', '_epa'))\n",
    "merged_car_data = merged_car_data[merged_car_data[\"trany\"].str.contains(\"Automatic\", na=False)]\n",
    "merged_car_data[\"fuelType\"] = merged_car_data[\"atvType\"].fillna(\"Gasoline\")\n",
    "merged_car_data = merged_car_data.drop(columns=[\"atvType\", \"id\"])"
   ]
  },
  {
   "cell_type": "code",
   "execution_count": null,
   "id": "90ae1686-a516-4432-a0d4-423e0b2f6f6c",
   "metadata": {},
   "outputs": [],
   "source": [
    "groupby_cols = list(car_table_fuel.columns) + [\"fuelType\"]\n",
    "groupby_cols.remove(\"fuelecon_ids\")"
   ]
  },
  {
   "cell_type": "code",
   "execution_count": null,
   "id": "9545d7ad",
   "metadata": {},
   "outputs": [],
   "source": [
    "merged_car_data_numerical_cols =\\\n",
    "    list(merged_car_data.columns[merged_car_data.dtypes.isin([dtype('int64'), dtype('float64')])])\n",
    "merged_car_data_numerical_cols = [x for x in merged_car_data_numerical_cols if x not in groupby_cols+[\"fuelecon_ids\"]]\n",
    "numeric_agg_funcs = dict(zip(merged_car_data_numerical_cols, [[\"min\", \"max\", \"mean\", \"median\"]]*len(merged_car_data_numerical_cols)))"
   ]
  },
  {
   "cell_type": "code",
   "execution_count": null,
   "id": "c69457e6-7f62-41cc-ba57-44633815e959",
   "metadata": {},
   "outputs": [],
   "source": [
    "merged_car_data_nonnumeric_cols = list(merged_car_data.columns[~merged_car_data.dtypes.isin([dtype('int64'), dtype('float64')])])\n",
    "merged_car_data_nonnumeric_cols = [x for x in merged_car_data_nonnumeric_cols if x not in groupby_cols+[\"fuelecon_ids\"]]\n",
    "nonnumeric_agg_funcs = dict(zip(merged_car_data_nonnumeric_cols, [pd.Series.mode]*len(merged_car_data_nonnumeric_cols)))"
   ]
  },
  {
   "cell_type": "code",
   "execution_count": null,
   "id": "e2815fe4-09eb-49a8-972d-a9d6bbfe746a",
   "metadata": {},
   "outputs": [],
   "source": [
    "agg_funcs = {**numeric_agg_funcs, **nonnumeric_agg_funcs}\n",
    "agg_funcs.update({\"fuelecon_ids\":list})"
   ]
  },
  {
   "cell_type": "code",
   "execution_count": null,
   "id": "9e203fd9-a3ce-4c50-b046-6483026a6604",
   "metadata": {},
   "outputs": [],
   "source": [
    "merged_car_data_stats = merged_car_data.groupby(groupby_cols, dropna=False).agg(agg_funcs)\n",
    "merged_car_data_stats.columns = merged_car_data_stats.columns.to_series().apply('_'.join)\n",
    "merged_car_data_stats.columns = [x.rstrip(\"_\").replace(\"_mode\", \"\").replace(\"_list\", \"\") for x in list(merged_car_data_stats.columns)]"
   ]
  },
  {
   "cell_type": "code",
   "execution_count": null,
   "id": "7a6b137a",
   "metadata": {},
   "outputs": [],
   "source": [
    "merged_car_data_stats.reset_index(inplace=True)\n",
    "merged_car_data_stats.rename(columns={\"fuelecon_ids\":\"id\"}, inplace=True)"
   ]
  },
  {
   "cell_type": "code",
   "execution_count": null,
   "id": "4f9549cc-6a3b-4ce7-a697-8d5cd5625e6f",
   "metadata": {},
   "outputs": [],
   "source": [
    "merged_car_data_stats"
   ]
  },
  {
   "cell_type": "markdown",
   "id": "d8ed4a3d",
   "metadata": {},
   "source": [
    "# Save to file"
   ]
  },
  {
   "cell_type": "code",
   "execution_count": null,
   "id": "921b18c8",
   "metadata": {},
   "outputs": [],
   "source": [
    "outdir = \"./\""
   ]
  },
  {
   "cell_type": "code",
   "execution_count": null,
   "id": "a9506407",
   "metadata": {},
   "outputs": [],
   "source": [
    "merged_car_data_stats.to_csv(os.path.join(outdir, \"2022_car_rankings_raw_DO_NOT_EDIT.csv\"))"
   ]
  },
  {
   "cell_type": "code",
   "execution_count": null,
   "id": "83d807c5",
   "metadata": {},
   "outputs": [],
   "source": [
    "merged_car_data_stats.to_excel(os.path.join(outdir, \"2022_car_rankings.xlsx\"), sheet_name=\"iihs car ranking\")"
   ]
  }
 ],
 "metadata": {
  "kernelspec": {
   "display_name": "Python 3 (ipykernel)",
   "language": "python",
   "name": "python3"
  },
  "language_info": {
   "codemirror_mode": {
    "name": "ipython",
    "version": 3
   },
   "file_extension": ".py",
   "mimetype": "text/x-python",
   "name": "python",
   "nbconvert_exporter": "python",
   "pygments_lexer": "ipython3",
   "version": "3.8.9"
  }
 },
 "nbformat": 4,
 "nbformat_minor": 5
}
