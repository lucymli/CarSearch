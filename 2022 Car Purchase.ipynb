{
 "cells": [
  {
   "cell_type": "code",
   "execution_count": 70,
   "id": "9f4e77eb-0f69-4b85-a88f-b3f09de73f4a",
   "metadata": {},
   "outputs": [],
   "source": [
    "from bs4 import BeautifulSoup\n",
    "import requests\n",
    "import json\n",
    "import re\n",
    "\n",
    "import pandas as pd\n",
    "\n",
    "import os"
   ]
  },
  {
   "cell_type": "code",
   "execution_count": 68,
   "id": "307b7d68-b40e-40ce-b7c4-5a8e89087de1",
   "metadata": {},
   "outputs": [],
   "source": [
    "def get_vehicle_info (soup):\n",
    "    data_rows = []\n",
    "    for row in soup.find_all('td', class_=\"Vehicle\"):\n",
    "        for td in row:\n",
    "            car_url = url_base + td.get('href')\n",
    "            names = [x.text for x in td.children]\n",
    "            output = {}\n",
    "            if ('Safety' in names[0]):\n",
    "                make_model = names[1]\n",
    "                years = ' '.join(names[2:])\n",
    "                iihs_ranking = names[0]\n",
    "            else:\n",
    "                make_model = names[0]\n",
    "                years = ' '.join(names[1:])\n",
    "                iihs_ranking = ''\n",
    "            make = make_model.split(' ')[0]\n",
    "            model = ' '.join(make_model.split(' ')[1:])\n",
    "            data_rows = data_rows + [{'make': make, 'model': model, 'years': years, \"iihs_ranking\": iihs_ranking, 'url': car_url}]\n",
    "\n",
    "    df = pd.DataFrame(data_rows)\n",
    "    return (df)"
   ]
  },
  {
   "cell_type": "code",
   "execution_count": 72,
   "id": "9ad270c2-5a62-438a-aa26-90663a6d0d14",
   "metadata": {},
   "outputs": [],
   "source": [
    "def extract_table (url):\n",
    "    page = requests.get(url)\n",
    "    df_raw = pd.read_html(page.text)[0]\n",
    "    soup = BeautifulSoup(page.text, 'html.parser')\n",
    "    df_id = get_vehicle_info(soup).assign(car_type=os.path.basename(url))\n",
    "    df = pd.concat([df_id, df_raw.drop(columns=\"Vehicle Name\")], axis=1)\n",
    "    return (df)"
   ]
  },
  {
   "cell_type": "code",
   "execution_count": 37,
   "id": "f7a2d167-149f-4646-af16-defabd48e7b8",
   "metadata": {},
   "outputs": [],
   "source": [
    "car_types = [\"small-cars\", \"midsize-cars\", \"midsize-luxury-cars\", \"large-cars\", \"large-luxury-cars\", \n",
    "             \"small-suvs\", \"midsize-suvs\", \"midsize-luxury-suvs\", \"large-suvs\", \"minivans\"]\n",
    "url_base = \"https://www.iihs.org\"\n",
    "urls = [url_base + \"/ratings/class-summary/\" + x for x in car_types]"
   ]
  },
  {
   "cell_type": "code",
   "execution_count": 78,
   "id": "283222cf-4697-4bfb-a4e7-d146765609a6",
   "metadata": {},
   "outputs": [],
   "source": [
    "car_table = pd.concat([extract_table(x) for x in urls]).reset_index(drop=True)"
   ]
  },
  {
   "cell_type": "markdown",
   "id": "eadc1e86-4c47-4a0b-a646-6a5e45e72c11",
   "metadata": {},
   "source": [
    "# Save to file"
   ]
  },
  {
   "cell_type": "code",
   "execution_count": null,
   "id": "253f2e3e-cd0f-4241-80ca-c4a72745e8b7",
   "metadata": {},
   "outputs": [],
   "source": [
    "outdir = \"./\""
   ]
  },
  {
   "cell_type": "code",
   "execution_count": 83,
   "id": "718d80bc-4a03-41b0-a7b9-2800bd450d74",
   "metadata": {},
   "outputs": [],
   "source": [
    "car_table.to_csv(os.path.join(outdir, \"2022_iihs_car_rankings_raw_DO_NOT_EDIT.csv\"))"
   ]
  },
  {
   "cell_type": "code",
   "execution_count": 84,
   "id": "1616c653-32e6-4cb9-a3f8-166d9922e7cb",
   "metadata": {},
   "outputs": [],
   "source": [
    "car_table.to_excel(os.path.join(outdir, \"2022_iihs_car_rankings.xlsx\"), sheet_name=\"iihs car ranking\")"
   ]
  },
  {
   "cell_type": "code",
   "execution_count": null,
   "id": "db1a5c4d-cb1a-4569-be49-9d66dc991c8a",
   "metadata": {},
   "outputs": [],
   "source": []
  }
 ],
 "metadata": {
  "kernelspec": {
   "display_name": "Python 3 (ipykernel)",
   "language": "python",
   "name": "python3"
  },
  "language_info": {
   "codemirror_mode": {
    "name": "ipython",
    "version": 3
   },
   "file_extension": ".py",
   "mimetype": "text/x-python",
   "name": "python",
   "nbconvert_exporter": "python",
   "pygments_lexer": "ipython3",
   "version": "3.8.9"
  }
 },
 "nbformat": 4,
 "nbformat_minor": 5
}
